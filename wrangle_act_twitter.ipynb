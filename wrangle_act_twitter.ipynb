{
 "cells": [
  {
   "cell_type": "code",
   "execution_count": null,
   "metadata": {},
   "outputs": [],
   "source": [
    "import requests\n",
    "import pandas as pd\n",
    "import numpy as np\n",
    "import tweepy\n",
    "import json"
   ]
  },
  {
   "cell_type": "markdown",
   "metadata": {},
   "source": [
    "## Gathering \n",
    "\n",
    "**Gathering data image_predictions.tsv from online server.** <br>\n",
    "**Gathering data tweet_json.txt from API** <br>\n",
    "**Gathering data twitter-archive-enhanced.csv via download**\n"
   ]
  },
  {
   "cell_type": "code",
   "execution_count": null,
   "metadata": {},
   "outputs": [],
   "source": [
    "# Download tsv from online server and open as pandas dataframe\n",
    "url = 'https://d17h27t6h515a5.cloudfront.net/topher/2017/August/599fd2ad_image-predictions/image-predictions.tsv'\n",
    "response = requests.get(url)\n",
    "\n",
    "with open ('image_predictions.tsv', mode = 'wb') as files:\n",
    "    files.write(response.content)"
   ]
  },
  {
   "cell_type": "code",
   "execution_count": null,
   "metadata": {},
   "outputs": [],
   "source": [
    "df_image = pd.read_csv('image_predictions.tsv', sep='\\t')\n",
    "image_clean = df_image.copy()"
   ]
  },
  {
   "cell_type": "code",
   "execution_count": null,
   "metadata": {},
   "outputs": [],
   "source": [
    "df_archive = pd.read_csv('twitter-archive-enhanced.csv')\n",
    "archive_clean = df_archive.copy()"
   ]
  },
  {
   "cell_type": "code",
   "execution_count": null,
   "metadata": {},
   "outputs": [],
   "source": [
    "archive_clean.sample(5)"
   ]
  },
  {
   "cell_type": "code",
   "execution_count": null,
   "metadata": {},
   "outputs": [],
   "source": [
    "tweet_id = list(df_archive.tweet_id)"
   ]
  },
  {
   "cell_type": "code",
   "execution_count": null,
   "metadata": {},
   "outputs": [],
   "source": [
    "len(tweet_id)"
   ]
  },
  {
   "cell_type": "code",
   "execution_count": null,
   "metadata": {},
   "outputs": [],
   "source": [
    "#Gather from Twitter's API using twitter ids\n",
    "\n",
    "consumer_key = 'XXXX'\n",
    "consumer_secret = 'XXXX'\n",
    "access_token = 'XXXX'\n",
    "access_secret = 'XXXX'\n",
    "\n",
    "auth = tweepy.OAuthHandler(consumer_key, consumer_secret)\n",
    "auth.set_access_token(access_token, access_secret)\n",
    "\n",
    "api = tweepy.API(auth, wait_on_rate_limit = True, wait_on_rate_limit_notify = True)"
   ]
  },
  {
   "cell_type": "code",
   "execution_count": null,
   "metadata": {},
   "outputs": [],
   "source": [
    "#Get tweet JSON data via tweet ID using Tweepy and store them in tweet_json.txt\n",
    "\n",
    "for ids in tweet_id:\n",
    "    try:\n",
    "        tweet = api.get_status(ids, tweet_mode='extended')\n",
    "        with open('tweet_json.txt', 'a') as f:\n",
    "            json.dump(tweet._json, f)\n",
    "            f.write('\\n')\n",
    "    except tweepy.TweepError as e:\n",
    "        print ids, e.reason"
   ]
  },
  {
   "cell_type": "code",
   "execution_count": null,
   "metadata": {},
   "outputs": [],
   "source": [
    "#open the tweet_json.txt \n",
    "tweet_json = []\n",
    "for line in open('tweet_json.txt', 'r'):\n",
    "    tweet_json.append(json.loads(line))"
   ]
  },
  {
   "cell_type": "code",
   "execution_count": null,
   "metadata": {
    "scrolled": false
   },
   "outputs": [],
   "source": [
    "#tweet ID, retweet count, and favorite count\n",
    "df_list = []\n",
    "for item in tweet_json:\n",
    "    df_list.append({'tweet_id': item['id'], 'retweet_count': item['retweet_count'], 'favorite_count': item['favorite_count']})\n",
    "\n",
    "df_twitter_counts = pd.DataFrame(df_list, columns = ['tweet_id', 'retweet_count', 'favorite_count'])"
   ]
  },
  {
   "cell_type": "code",
   "execution_count": null,
   "metadata": {},
   "outputs": [],
   "source": [
    "twitter_counts_clean = df_twitter_counts.copy()"
   ]
  },
  {
   "cell_type": "markdown",
   "metadata": {},
   "source": [
    "## Assess\n",
    "\n",
    "### df_image    \n",
    "  1. Names in colume p1, p2 and p3 contain both upper and lower case. (quality)   \n",
    "\n",
    " \n",
    "### df_archive\n",
    "  1. in_reply_to_status_id, in_reply_to_user_id, retweeted_status_id and retweeted_status_user_id are exponential adn mostly empty (quality) \n",
    "  2. The name column contains 'a' and 'an' and 'the' and some typos like 'Fr\\xc3\\xb6nq'and most of the names are none (quality) \n",
    "  3. Timestamp and retweeted_status_timestamp column is object (quality) \n",
    "  4. rating_numerator contains value that is as big as 75, 420 1776 (quality) \n",
    "  5. rating_denominator contains value that is bigger than 10 (quality) \n",
    "  6. The columns named doggo, floofer, pupper and puppo are mostly empty (tidiness) \n",
    "  7. df_tweet_counts is in a seperate table (tidiness) \n",
    "  8. The source column contains ’a herf‘ and ‘/a’ (quality)\n",
    "  9. df_image contains 2075 lines which is less than that in the df_archive table (tidiness)\n",
    "  10. The dog type contains two rows with multiple dog types (quality)"
   ]
  },
  {
   "cell_type": "code",
   "execution_count": null,
   "metadata": {
    "scrolled": true
   },
   "outputs": [],
   "source": [
    "image_clean.info()"
   ]
  },
  {
   "cell_type": "code",
   "execution_count": null,
   "metadata": {},
   "outputs": [],
   "source": [
    "image_clean.sample(5)"
   ]
  },
  {
   "cell_type": "code",
   "execution_count": null,
   "metadata": {},
   "outputs": [],
   "source": [
    "image_clean.info()"
   ]
  },
  {
   "cell_type": "code",
   "execution_count": null,
   "metadata": {},
   "outputs": [],
   "source": [
    "archive_clean.sample(5)"
   ]
  },
  {
   "cell_type": "code",
   "execution_count": null,
   "metadata": {},
   "outputs": [],
   "source": [
    "archive_clean.describe()"
   ]
  },
  {
   "cell_type": "code",
   "execution_count": null,
   "metadata": {},
   "outputs": [],
   "source": [
    "archive_clean.source.value_counts()"
   ]
  },
  {
   "cell_type": "code",
   "execution_count": null,
   "metadata": {
    "scrolled": true
   },
   "outputs": [],
   "source": [
    "archive_clean[archive_clean['in_reply_to_status_id'].notnull()]"
   ]
  },
  {
   "cell_type": "code",
   "execution_count": null,
   "metadata": {
    "scrolled": true
   },
   "outputs": [],
   "source": [
    "archive_clean[archive_clean['retweeted_status_id'].notnull()]"
   ]
  },
  {
   "cell_type": "code",
   "execution_count": null,
   "metadata": {
    "scrolled": true
   },
   "outputs": [],
   "source": [
    "archive_clean['name'].value_counts()"
   ]
  },
  {
   "cell_type": "code",
   "execution_count": null,
   "metadata": {},
   "outputs": [],
   "source": [
    "twitter_counts_clean.head()"
   ]
  },
  {
   "cell_type": "code",
   "execution_count": null,
   "metadata": {},
   "outputs": [],
   "source": [
    "twitter_counts_clean.info()"
   ]
  },
  {
   "cell_type": "code",
   "execution_count": null,
   "metadata": {
    "scrolled": true
   },
   "outputs": [],
   "source": [
    "archive_clean.groupby('name').groups.keys()"
   ]
  },
  {
   "cell_type": "code",
   "execution_count": null,
   "metadata": {
    "scrolled": false
   },
   "outputs": [],
   "source": [
    "archive_clean.rating_numerator.value_counts()"
   ]
  },
  {
   "cell_type": "code",
   "execution_count": null,
   "metadata": {},
   "outputs": [],
   "source": [
    "archive_clean.rating_denominator.value_counts()"
   ]
  },
  {
   "cell_type": "code",
   "execution_count": null,
   "metadata": {
    "scrolled": true
   },
   "outputs": [],
   "source": [
    "archive_clean[archive_clean['in_reply_to_status_id'].notnull()]"
   ]
  },
  {
   "cell_type": "code",
   "execution_count": null,
   "metadata": {},
   "outputs": [],
   "source": [
    "print (sum(archive_clean.doggo != 'None'))\n",
    "print (sum(archive_clean.floofer != 'None'))\n",
    "print (sum(archive_clean.pupper!= 'None'))\n",
    "print (sum(archive_clean.puppo != 'None'))"
   ]
  },
  {
   "cell_type": "markdown",
   "metadata": {},
   "source": [
    "## Clean\n",
    "\n",
    "   \n",
    "### df_image    \n",
    "  1. Names in colume p1, p2 and p3 are converted to lower case.    \n",
    "  \n",
    " \n",
    "### df_archive\n",
    "  1. in_reply_to_status_id, in_reply_to_user_id, retweeted_status_id and retweeted_status_user_id are removed.\n",
    "  2. Extract the names from the text.\n",
    "  3. Convert timestamp and retweeted_status_timestamp from object to timestamp.\n",
    "  4. Remove entries of rating_numerator that is greater than 14 as most ratings are equal or less than 14\n",
    "  5. Remove entries of rating_denominator that is greater than 10\n",
    "  6. The columns named doggo, floofer, pupper and puppo are combined to one column and the orginal column is removed\n",
    "  7. twitter_counts_clean is added to archive_clean\n",
    "  8. The source column contains a herf and /a which needs to be parsed(The code is not provided becanuse I have not found a way to do this)\n",
    "  9. df_image is added to the df_archive table\n",
    "  10. The two rows with multiple dog types are removed.\n"
   ]
  },
  {
   "cell_type": "code",
   "execution_count": null,
   "metadata": {},
   "outputs": [],
   "source": []
  },
  {
   "cell_type": "markdown",
   "metadata": {},
   "source": [
    "**1. Names in colume p1, p2 and p3 are converted to lower case**"
   ]
  },
  {
   "cell_type": "code",
   "execution_count": null,
   "metadata": {},
   "outputs": [],
   "source": [
    "#Names in colume p1, p2 and p3 are converted to lower case.\n",
    "lower = ['p1', 'p2', 'p3']\n",
    "for col in lower:\n",
    "    image_clean[col] = image_clean[col].str.lower()"
   ]
  },
  {
   "cell_type": "code",
   "execution_count": null,
   "metadata": {},
   "outputs": [],
   "source": [
    "#Test\n",
    "image_clean.sample(5)"
   ]
  },
  {
   "cell_type": "markdown",
   "metadata": {},
   "source": [
    "**in_reply_to_status_id, in_reply_to_user_id, retweeted_status_id and retweeted_status_user_id are dropeed**"
   ]
  },
  {
   "cell_type": "code",
   "execution_count": null,
   "metadata": {},
   "outputs": [],
   "source": [
    "to_drop = ['in_reply_to_status_id', 'in_reply_to_user_id', 'retweeted_status_id', 'retweeted_status_user_id']\n",
    "for i in to_drop:\n",
    "    archive_clean = archive_clean.drop(i, axis = 1)"
   ]
  },
  {
   "cell_type": "code",
   "execution_count": null,
   "metadata": {},
   "outputs": [],
   "source": [
    "#test\n",
    "archive_clean.columns"
   ]
  },
  {
   "cell_type": "markdown",
   "metadata": {},
   "source": [
    "**Extract the names from the text.**"
   ]
  },
  {
   "cell_type": "code",
   "execution_count": null,
   "metadata": {},
   "outputs": [],
   "source": [
    "archive_clean.name = archive_clean.text.str.extract('(?:This is|Meet|name is|Say hello to|named) ([A-Z][a-z]{2,12})', expand=False).values"
   ]
  },
  {
   "cell_type": "code",
   "execution_count": null,
   "metadata": {
    "scrolled": true
   },
   "outputs": [],
   "source": [
    "#Test\n",
    "archive_clean.name.value_counts()"
   ]
  },
  {
   "cell_type": "markdown",
   "metadata": {},
   "source": [
    "**Convert timestamp from object to timestamp.**"
   ]
  },
  {
   "cell_type": "code",
   "execution_count": null,
   "metadata": {},
   "outputs": [],
   "source": [
    "archive_clean.timestamp = pd.to_datetime(archive_clean.timestamp)\n",
    "archive_clean.retweeted_status_timestamp = pd.to_datetime(archive_clean.timestamp)"
   ]
  },
  {
   "cell_type": "code",
   "execution_count": null,
   "metadata": {
    "scrolled": true
   },
   "outputs": [],
   "source": [
    "#test\n",
    "archive_clean.info()"
   ]
  },
  {
   "cell_type": "markdown",
   "metadata": {},
   "source": [
    "**Remove entries of rating_numerator that is greater than 14 as most ratings are equal or less than 14**"
   ]
  },
  {
   "cell_type": "code",
   "execution_count": null,
   "metadata": {},
   "outputs": [],
   "source": [
    "to_drop = archive_clean[archive_clean['rating_numerator'] > 14].index.values\n",
    "to_drop"
   ]
  },
  {
   "cell_type": "code",
   "execution_count": null,
   "metadata": {
    "scrolled": true
   },
   "outputs": [],
   "source": [
    "archive_clean = archive_clean.drop(to_drop, axis = 0)"
   ]
  },
  {
   "cell_type": "code",
   "execution_count": null,
   "metadata": {},
   "outputs": [],
   "source": [
    "#test\n",
    "archive_clean[archive_clean['rating_denominator'] > 14]"
   ]
  },
  {
   "cell_type": "markdown",
   "metadata": {},
   "source": [
    "**Reomove the rating_denominator that is bigger than 10**"
   ]
  },
  {
   "cell_type": "code",
   "execution_count": null,
   "metadata": {},
   "outputs": [],
   "source": [
    "to_drop = archive_clean[archive_clean['rating_denominator'] > 10].index.values\n",
    "to_drop"
   ]
  },
  {
   "cell_type": "code",
   "execution_count": null,
   "metadata": {
    "scrolled": true
   },
   "outputs": [],
   "source": [
    "archive_clean = archive_clean.drop(to_drop, axis = 0)"
   ]
  },
  {
   "cell_type": "code",
   "execution_count": null,
   "metadata": {},
   "outputs": [],
   "source": [
    "#test\n",
    "archive_clean[archive_clean['rating_denominator'] > 10]"
   ]
  },
  {
   "cell_type": "code",
   "execution_count": null,
   "metadata": {},
   "outputs": [],
   "source": [
    "archive_clean.rating_denominator.value_counts()"
   ]
  },
  {
   "cell_type": "code",
   "execution_count": null,
   "metadata": {},
   "outputs": [],
   "source": [
    "archive_clean.rating_numerator.dtype"
   ]
  },
  {
   "cell_type": "markdown",
   "metadata": {},
   "source": [
    "  **6. The columns named doggo, floofer, pupper and puppo are combined to one column.**"
   ]
  },
  {
   "cell_type": "code",
   "execution_count": null,
   "metadata": {
    "scrolled": true
   },
   "outputs": [],
   "source": [
    "to_move = ['doggo', 'floofer', 'pupper', 'puppo']\n",
    "for i in to_move:\n",
    "    archive_clean[i].replace('None', np.nan, inplace=True)"
   ]
  },
  {
   "cell_type": "code",
   "execution_count": null,
   "metadata": {},
   "outputs": [],
   "source": [
    "archive_clean['type'] = archive_clean[to_move].apply(lambda x: ','.join(x.dropna()), axis=1)"
   ]
  },
  {
   "cell_type": "code",
   "execution_count": null,
   "metadata": {},
   "outputs": [],
   "source": [
    "to_move = ['doggo', 'floofer', 'pupper', 'puppo']\n",
    "for i in to_move:\n",
    "    archive_clean.drop(i, axis = 1, inplace = True)"
   ]
  },
  {
   "cell_type": "code",
   "execution_count": null,
   "metadata": {},
   "outputs": [],
   "source": [
    "#test\n",
    "archive_clean.columns"
   ]
  },
  {
   "cell_type": "markdown",
   "metadata": {},
   "source": [
    "**7. twitter_counts_clean is added to archive_clean**"
   ]
  },
  {
   "cell_type": "code",
   "execution_count": null,
   "metadata": {},
   "outputs": [],
   "source": [
    "archive_clean = pd.merge(archive_clean, twitter_counts_clean, on = 'tweet_id', how = 'left')"
   ]
  },
  {
   "cell_type": "code",
   "execution_count": null,
   "metadata": {},
   "outputs": [],
   "source": [
    "archive_clean.retweet_count = archive_clean.retweet_count.fillna(0)\n",
    "archive_clean.favorite_count = archive_clean.favorite_count.fillna(0)"
   ]
  },
  {
   "cell_type": "code",
   "execution_count": null,
   "metadata": {},
   "outputs": [],
   "source": [
    "archive_clean.retweet_count = archive_clean.retweet_count.astype(int)\n",
    "archive_clean.favorite_count = archive_clean.favorite_count.astype(int)"
   ]
  },
  {
   "cell_type": "code",
   "execution_count": null,
   "metadata": {
    "scrolled": true
   },
   "outputs": [],
   "source": [
    "#test\n",
    "archive_clean.info()"
   ]
  },
  {
   "cell_type": "markdown",
   "metadata": {},
   "source": [
    "**9. df_image is added to the df_archive table **"
   ]
  },
  {
   "cell_type": "code",
   "execution_count": null,
   "metadata": {},
   "outputs": [],
   "source": [
    "archive_clean = pd.merge(archive_clean, image_clean, on = 'tweet_id', how = 'left')"
   ]
  },
  {
   "cell_type": "code",
   "execution_count": null,
   "metadata": {},
   "outputs": [],
   "source": [
    "#test\n",
    "archive_clean.info()"
   ]
  },
  {
   "cell_type": "markdown",
   "metadata": {},
   "source": [
    "**10. The empty entry in dog type column is converted to null. The entries that contain two dop types are converted to 1 by extracting the first one**"
   ]
  },
  {
   "cell_type": "code",
   "execution_count": 64,
   "metadata": {},
   "outputs": [],
   "source": [
    "archive_clean.replace('', np.nan, regex=True, inplace = True)"
   ]
  },
  {
   "cell_type": "code",
   "execution_count": 86,
   "metadata": {},
   "outputs": [],
   "source": [
    "archive_clean['type'] = archive_clean['type'].str.split(',', expand=True)[0]"
   ]
  },
  {
   "cell_type": "code",
   "execution_count": 94,
   "metadata": {},
   "outputs": [
    {
     "data": {
      "text/plain": [
       "pupper     244\n",
       "doggo      97 \n",
       "puppo      29 \n",
       "floofer    9  \n",
       "Name: type, dtype: int64"
      ]
     },
     "execution_count": 94,
     "metadata": {},
     "output_type": "execute_result"
    }
   ],
   "source": [
    "#test\n",
    "archive_clean.type.value_counts()"
   ]
  },
  {
   "cell_type": "markdown",
   "metadata": {},
   "source": [
    "## Analysis"
   ]
  },
  {
   "cell_type": "code",
   "execution_count": null,
   "metadata": {},
   "outputs": [],
   "source": [
    "import matplotlib\n",
    "import matplotlib.pyplot as plt\n",
    "%matplotlib inline"
   ]
  },
  {
   "cell_type": "markdown",
   "metadata": {},
   "source": [
    "## What is the distribution of the rating_numerator.\n",
    "\n",
    "**The rating_numerator is analyzed to find out the distribution of the ratings. The rating_numerator is grouped by in different values and the total number of ratings of each value is counted. It’s found that the distribution is left skewed with a rating of 12 reaching the maximum. There are also some ratings that are below 10 with the minimum rating being 0. The number of people is in a positive correlation with the rating value from 0-10. Most of the ratings fall in the range of 10-13. Going from 13 to 14, the number of ratings drastically decrease**\n"
   ]
  },
  {
   "cell_type": "code",
   "execution_count": 93,
   "metadata": {},
   "outputs": [
    {
     "data": {
      "image/png": "[encoded data removed]",
      "text/plain": [
       "<Figure size 432x288 with 1 Axes>"
      ]
     },
     "metadata": {},
     "output_type": "display_data"
    }
   ],
   "source": [
    "#plot the bar plot of how many tweets there are for each ratings\n",
    "archive_clean.groupby('rating_numerator').size().plot(kind='bar')\n",
    "plt.xlabel('Ratings')\n",
    "plt.ylabel('Counts')\n",
    "plt.savefig('rating_distribution.jpg');"
   ]
  },
  {
   "cell_type": "markdown",
   "metadata": {},
   "source": [
    "## How is the number of favorites related to the ratings. \n",
    "\n",
    "**The mean value of favorites in each rating group (0-14) is analyzed with a bar plot. The rating group of 1-10 has very close number of favorites. Surprisingly, the group with a rating of 0 is noticeably high in number of favorites compared with rating group (1-10). Going from rating group 9 to 14, an increase in the number of favorites is observed, indicating a positive correlation. The rating group that has the highest number of favorites is 14.**"
   ]
  },
  {
   "cell_type": "code",
   "execution_count": 91,
   "metadata": {},
   "outputs": [
    {
     "data": {
      "image/png": "[encoded data removed]",
      "text/plain": [
       "<Figure size 432x288 with 1 Axes>"
      ]
     },
     "metadata": {},
     "output_type": "display_data"
    }
   ],
   "source": [
    "archive_clean.groupby('rating_numerator').favorite_count.mean().plot(kind = 'bar')\n",
    "plt.xlabel('Rating')\n",
    "plt.ylabel('Favorite');"
   ]
  },
  {
   "attachments": {},
   "cell_type": "markdown",
   "metadata": {},
   "source": [
    "## How is the number of retweets related to the ratings.\n",
    "\n",
    "**The mean value of number of time retweeted in each rating group (0-14) is analyzed with a bar plot. This plot is very similar in shape with the previous one (favorites number vs ratings) except that group with a rating of 0 is not as high. All together the number of retweets in rating group 0-10 are quite close. There’s a dramatic increase in the number of retweets as the ratings go beyond 10, reaching maximum with rating value of 14.**"
   ]
  },
  {
   "cell_type": "code",
   "execution_count": 89,
   "metadata": {},
   "outputs": [
    {
     "data": {
      "image/png": "[encoded data removed]",
      "text/plain": [
       "<Figure size 432x288 with 1 Axes>"
      ]
     },
     "metadata": {},
     "output_type": "display_data"
    }
   ],
   "source": [
    "archive_clean.groupby('rating_numerator').retweet_count.mean().plot(kind = 'bar')\n",
    "plt.xlabel('Rating')\n",
    "plt.ylabel('Retweet');"
   ]
  },
  {
   "cell_type": "code",
   "execution_count": null,
   "metadata": {},
   "outputs": [],
   "source": [
    "archive_clean.plot.scatter('retweet_count','favorite_count')\n",
    "plt.xlabel('Retweets')\n",
    "plt.ylabel('Favorite');"
   ]
  },
  {
   "cell_type": "code",
   "execution_count": 95,
   "metadata": {},
   "outputs": [],
   "source": [
    "archive_clean.to_csv('twitter_archive_master.csv', index=False)"
   ]
  }
 ],
 "metadata": {
  "kernelspec": {
   "display_name": "Python 2",
   "language": "python",
   "name": "python2"
  },
  "language_info": {
   "codemirror_mode": {
    "name": "ipython",
    "version": 2
   },
   "file_extension": ".py",
   "mimetype": "text/x-python",
   "name": "python",
   "nbconvert_exporter": "python",
   "pygments_lexer": "ipython2",
   "version": "2.7.15"
  }
 },
 "nbformat": 4,
 "nbformat_minor": 2
}
