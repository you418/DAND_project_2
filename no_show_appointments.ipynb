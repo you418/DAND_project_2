{
 "cells": [
  {
   "cell_type": "markdown",
   "metadata": {},
   "source": [
    "# Project: Investigate noshowappointments.csv\n",
    "\n",
    "## Table of Contents\n",
    "<ul>\n",
    "<li><a href=\"#intro\">Introduction</a></li>\n",
    "<li><a href=\"#wrangling\">Data Wrangling</a></li>\n",
    "<li><a href=\"#eda\">Exploratory Data Analysis</a></li>\n",
    "<li><a href=\"#conclusions\">Conclusions</a></li>\n",
    "</ul>"
   ]
  },
  {
   "cell_type": "markdown",
   "metadata": {},
   "source": [
    "<a id='intro'></a>\n",
    "## Introduction\n",
    "\n",
    "<font size=4> In this poject, the No-show appointments dataset is analyzed. Two question is asked in this report: 1. How is the days between scheduled_day and appointment_day affecting if a patient will show up for the appointment? 2. How is the age and gender affecting if a patient will show up for the appointment? "
   ]
  },
  {
   "cell_type": "code",
   "execution_count": 415,
   "metadata": {},
   "outputs": [],
   "source": [
    "import pandas as pd\n",
    "import matplotlib.pyplot as plt\n",
    "import datetime\n",
    "import numpy as np\n",
    "import seaborn as sns\n",
    "\n",
    "% matplotlib inline"
   ]
  },
  {
   "cell_type": "markdown",
   "metadata": {},
   "source": [
    "<a id='wrangling'></a>\n",
    "## Data Wrangling\n",
    "\n",
    "\n",
    "### General Properties"
   ]
  },
  {
   "cell_type": "markdown",
   "metadata": {},
   "source": [
    "<font size=4> Frist of all the csv file is loaded and examined to understand the information contained in this dataset as well as the size of this dataset. Duplication is checked and none is found.</font>"
   ]
  },
  {
   "cell_type": "code",
   "execution_count": 306,
   "metadata": {},
   "outputs": [
    {
     "data": {
      "text/html": [
       "<div>\n",
       "<style scoped>\n",
       "    .dataframe tbody tr th:only-of-type {\n",
       "        vertical-align: middle;\n",
       "    }\n",
       "\n",
       "    .dataframe tbody tr th {\n",
       "        vertical-align: top;\n",
       "    }\n",
       "\n",
       "    .dataframe thead th {\n",
       "        text-align: right;\n",
       "    }\n",
       "</style>\n",
       "<table border=\"1\" class=\"dataframe\">\n",
       "  <thead>\n",
       "    <tr style=\"text-align: right;\">\n",
       "      <th></th>\n",
       "      <th>PatientId</th>\n",
       "      <th>AppointmentID</th>\n",
       "      <th>Gender</th>\n",
       "      <th>ScheduledDay</th>\n",
       "      <th>AppointmentDay</th>\n",
       "      <th>Age</th>\n",
       "      <th>Neighbourhood</th>\n",
       "      <th>Scholarship</th>\n",
       "      <th>Hipertension</th>\n",
       "      <th>Diabetes</th>\n",
       "      <th>Alcoholism</th>\n",
       "      <th>Handcap</th>\n",
       "      <th>SMS_received</th>\n",
       "      <th>No-show</th>\n",
       "    </tr>\n",
       "  </thead>\n",
       "  <tbody>\n",
       "    <tr>\n",
       "      <th>0</th>\n",
       "      <td>29,872,499,824,296.00</td>\n",
       "      <td>5642903</td>\n",
       "      <td>F</td>\n",
       "      <td>2016-04-29T18:38:08Z</td>\n",
       "      <td>2016-04-29T00:00:00Z</td>\n",
       "      <td>62</td>\n",
       "      <td>JARDIM DA PENHA</td>\n",
       "      <td>0</td>\n",
       "      <td>1</td>\n",
       "      <td>0</td>\n",
       "      <td>0</td>\n",
       "      <td>0</td>\n",
       "      <td>0</td>\n",
       "      <td>No</td>\n",
       "    </tr>\n",
       "    <tr>\n",
       "      <th>1</th>\n",
       "      <td>558,997,776,694,438.00</td>\n",
       "      <td>5642503</td>\n",
       "      <td>M</td>\n",
       "      <td>2016-04-29T16:08:27Z</td>\n",
       "      <td>2016-04-29T00:00:00Z</td>\n",
       "      <td>56</td>\n",
       "      <td>JARDIM DA PENHA</td>\n",
       "      <td>0</td>\n",
       "      <td>0</td>\n",
       "      <td>0</td>\n",
       "      <td>0</td>\n",
       "      <td>0</td>\n",
       "      <td>0</td>\n",
       "      <td>No</td>\n",
       "    </tr>\n",
       "    <tr>\n",
       "      <th>2</th>\n",
       "      <td>4,262,962,299,951.00</td>\n",
       "      <td>5642549</td>\n",
       "      <td>F</td>\n",
       "      <td>2016-04-29T16:19:04Z</td>\n",
       "      <td>2016-04-29T00:00:00Z</td>\n",
       "      <td>62</td>\n",
       "      <td>MATA DA PRAIA</td>\n",
       "      <td>0</td>\n",
       "      <td>0</td>\n",
       "      <td>0</td>\n",
       "      <td>0</td>\n",
       "      <td>0</td>\n",
       "      <td>0</td>\n",
       "      <td>No</td>\n",
       "    </tr>\n",
       "    <tr>\n",
       "      <th>3</th>\n",
       "      <td>867,951,213,174.00</td>\n",
       "      <td>5642828</td>\n",
       "      <td>F</td>\n",
       "      <td>2016-04-29T17:29:31Z</td>\n",
       "      <td>2016-04-29T00:00:00Z</td>\n",
       "      <td>8</td>\n",
       "      <td>PONTAL DE CAMBURI</td>\n",
       "      <td>0</td>\n",
       "      <td>0</td>\n",
       "      <td>0</td>\n",
       "      <td>0</td>\n",
       "      <td>0</td>\n",
       "      <td>0</td>\n",
       "      <td>No</td>\n",
       "    </tr>\n",
       "    <tr>\n",
       "      <th>4</th>\n",
       "      <td>8,841,186,448,183.00</td>\n",
       "      <td>5642494</td>\n",
       "      <td>F</td>\n",
       "      <td>2016-04-29T16:07:23Z</td>\n",
       "      <td>2016-04-29T00:00:00Z</td>\n",
       "      <td>56</td>\n",
       "      <td>JARDIM DA PENHA</td>\n",
       "      <td>0</td>\n",
       "      <td>1</td>\n",
       "      <td>1</td>\n",
       "      <td>0</td>\n",
       "      <td>0</td>\n",
       "      <td>0</td>\n",
       "      <td>No</td>\n",
       "    </tr>\n",
       "  </tbody>\n",
       "</table>\n",
       "</div>"
      ],
      "text/plain": [
       "               PatientId  AppointmentID Gender          ScheduledDay  \\\n",
       "0  29,872,499,824,296.00        5642903      F  2016-04-29T18:38:08Z   \n",
       "1 558,997,776,694,438.00        5642503      M  2016-04-29T16:08:27Z   \n",
       "2   4,262,962,299,951.00        5642549      F  2016-04-29T16:19:04Z   \n",
       "3     867,951,213,174.00        5642828      F  2016-04-29T17:29:31Z   \n",
       "4   8,841,186,448,183.00        5642494      F  2016-04-29T16:07:23Z   \n",
       "\n",
       "         AppointmentDay  Age      Neighbourhood  Scholarship  Hipertension  \\\n",
       "0  2016-04-29T00:00:00Z   62    JARDIM DA PENHA            0             1   \n",
       "1  2016-04-29T00:00:00Z   56    JARDIM DA PENHA            0             0   \n",
       "2  2016-04-29T00:00:00Z   62      MATA DA PRAIA            0             0   \n",
       "3  2016-04-29T00:00:00Z    8  PONTAL DE CAMBURI            0             0   \n",
       "4  2016-04-29T00:00:00Z   56    JARDIM DA PENHA            0             1   \n",
       "\n",
       "   Diabetes  Alcoholism  Handcap  SMS_received No-show  \n",
       "0         0           0        0             0      No  \n",
       "1         0           0        0             0      No  \n",
       "2         0           0        0             0      No  \n",
       "3         0           0        0             0      No  \n",
       "4         1           0        0             0      No  "
      ]
     },
     "execution_count": 306,
     "metadata": {},
     "output_type": "execute_result"
    }
   ],
   "source": [
    "# Load your data and print out a few lines. Perform operations to inspect data\n",
    "#   types and look for instances of missing or possibly errant data.\n",
    "df = pd.read_csv('noshowappointments.csv')\n",
    "df.head()"
   ]
  },
  {
   "cell_type": "code",
   "execution_count": 307,
   "metadata": {},
   "outputs": [
    {
     "data": {
      "text/plain": [
       "0"
      ]
     },
     "execution_count": 307,
     "metadata": {},
     "output_type": "execute_result"
    }
   ],
   "source": [
    "df.duplicated().sum()"
   ]
  },
  {
   "cell_type": "code",
   "execution_count": 308,
   "metadata": {},
   "outputs": [
    {
     "data": {
      "text/html": [
       "<div>\n",
       "<style scoped>\n",
       "    .dataframe tbody tr th:only-of-type {\n",
       "        vertical-align: middle;\n",
       "    }\n",
       "\n",
       "    .dataframe tbody tr th {\n",
       "        vertical-align: top;\n",
       "    }\n",
       "\n",
       "    .dataframe thead th {\n",
       "        text-align: right;\n",
       "    }\n",
       "</style>\n",
       "<table border=\"1\" class=\"dataframe\">\n",
       "  <thead>\n",
       "    <tr style=\"text-align: right;\">\n",
       "      <th></th>\n",
       "      <th>PatientId</th>\n",
       "      <th>AppointmentID</th>\n",
       "      <th>Age</th>\n",
       "      <th>Scholarship</th>\n",
       "      <th>Hipertension</th>\n",
       "      <th>Diabetes</th>\n",
       "      <th>Alcoholism</th>\n",
       "      <th>Handcap</th>\n",
       "      <th>SMS_received</th>\n",
       "    </tr>\n",
       "  </thead>\n",
       "  <tbody>\n",
       "    <tr>\n",
       "      <th>count</th>\n",
       "      <td>110,527.00</td>\n",
       "      <td>110,527.00</td>\n",
       "      <td>110,527.00</td>\n",
       "      <td>110,527.00</td>\n",
       "      <td>110,527.00</td>\n",
       "      <td>110,527.00</td>\n",
       "      <td>110,527.00</td>\n",
       "      <td>110,527.00</td>\n",
       "      <td>110,527.00</td>\n",
       "    </tr>\n",
       "    <tr>\n",
       "      <th>mean</th>\n",
       "      <td>147,496,265,710,394.06</td>\n",
       "      <td>5,675,305.12</td>\n",
       "      <td>37.09</td>\n",
       "      <td>0.10</td>\n",
       "      <td>0.20</td>\n",
       "      <td>0.07</td>\n",
       "      <td>0.03</td>\n",
       "      <td>0.02</td>\n",
       "      <td>0.32</td>\n",
       "    </tr>\n",
       "    <tr>\n",
       "      <th>std</th>\n",
       "      <td>256,094,920,291,739.09</td>\n",
       "      <td>71,295.75</td>\n",
       "      <td>23.11</td>\n",
       "      <td>0.30</td>\n",
       "      <td>0.40</td>\n",
       "      <td>0.26</td>\n",
       "      <td>0.17</td>\n",
       "      <td>0.16</td>\n",
       "      <td>0.47</td>\n",
       "    </tr>\n",
       "    <tr>\n",
       "      <th>min</th>\n",
       "      <td>39,217.84</td>\n",
       "      <td>5,030,230.00</td>\n",
       "      <td>-1.00</td>\n",
       "      <td>0.00</td>\n",
       "      <td>0.00</td>\n",
       "      <td>0.00</td>\n",
       "      <td>0.00</td>\n",
       "      <td>0.00</td>\n",
       "      <td>0.00</td>\n",
       "    </tr>\n",
       "    <tr>\n",
       "      <th>25%</th>\n",
       "      <td>4,172,614,444,192.00</td>\n",
       "      <td>5,640,285.50</td>\n",
       "      <td>18.00</td>\n",
       "      <td>0.00</td>\n",
       "      <td>0.00</td>\n",
       "      <td>0.00</td>\n",
       "      <td>0.00</td>\n",
       "      <td>0.00</td>\n",
       "      <td>0.00</td>\n",
       "    </tr>\n",
       "    <tr>\n",
       "      <th>50%</th>\n",
       "      <td>31,731,838,713,978.00</td>\n",
       "      <td>5,680,573.00</td>\n",
       "      <td>37.00</td>\n",
       "      <td>0.00</td>\n",
       "      <td>0.00</td>\n",
       "      <td>0.00</td>\n",
       "      <td>0.00</td>\n",
       "      <td>0.00</td>\n",
       "      <td>0.00</td>\n",
       "    </tr>\n",
       "    <tr>\n",
       "      <th>75%</th>\n",
       "      <td>94,391,720,898,175.00</td>\n",
       "      <td>5,725,523.50</td>\n",
       "      <td>55.00</td>\n",
       "      <td>0.00</td>\n",
       "      <td>0.00</td>\n",
       "      <td>0.00</td>\n",
       "      <td>0.00</td>\n",
       "      <td>0.00</td>\n",
       "      <td>1.00</td>\n",
       "    </tr>\n",
       "    <tr>\n",
       "      <th>max</th>\n",
       "      <td>999,981,631,772,427.00</td>\n",
       "      <td>5,790,484.00</td>\n",
       "      <td>115.00</td>\n",
       "      <td>1.00</td>\n",
       "      <td>1.00</td>\n",
       "      <td>1.00</td>\n",
       "      <td>1.00</td>\n",
       "      <td>4.00</td>\n",
       "      <td>1.00</td>\n",
       "    </tr>\n",
       "  </tbody>\n",
       "</table>\n",
       "</div>"
      ],
      "text/plain": [
       "                   PatientId        AppointmentID                  Age  \\\n",
       "count             110,527.00           110,527.00           110,527.00   \n",
       "mean  147,496,265,710,394.06         5,675,305.12                37.09   \n",
       "std   256,094,920,291,739.09            71,295.75                23.11   \n",
       "min                39,217.84         5,030,230.00                -1.00   \n",
       "25%     4,172,614,444,192.00         5,640,285.50                18.00   \n",
       "50%    31,731,838,713,978.00         5,680,573.00                37.00   \n",
       "75%    94,391,720,898,175.00         5,725,523.50                55.00   \n",
       "max   999,981,631,772,427.00         5,790,484.00               115.00   \n",
       "\n",
       "               Scholarship         Hipertension             Diabetes  \\\n",
       "count           110,527.00           110,527.00           110,527.00   \n",
       "mean                  0.10                 0.20                 0.07   \n",
       "std                   0.30                 0.40                 0.26   \n",
       "min                   0.00                 0.00                 0.00   \n",
       "25%                   0.00                 0.00                 0.00   \n",
       "50%                   0.00                 0.00                 0.00   \n",
       "75%                   0.00                 0.00                 0.00   \n",
       "max                   1.00                 1.00                 1.00   \n",
       "\n",
       "                Alcoholism              Handcap         SMS_received  \n",
       "count           110,527.00           110,527.00           110,527.00  \n",
       "mean                  0.03                 0.02                 0.32  \n",
       "std                   0.17                 0.16                 0.47  \n",
       "min                   0.00                 0.00                 0.00  \n",
       "25%                   0.00                 0.00                 0.00  \n",
       "50%                   0.00                 0.00                 0.00  \n",
       "75%                   0.00                 0.00                 1.00  \n",
       "max                   1.00                 4.00                 1.00  "
      ]
     },
     "execution_count": 308,
     "metadata": {},
     "output_type": "execute_result"
    }
   ],
   "source": [
    "df.describe()"
   ]
  },
  {
   "cell_type": "code",
   "execution_count": 309,
   "metadata": {},
   "outputs": [
    {
     "name": "stdout",
     "output_type": "stream",
     "text": [
      "<class 'pandas.core.frame.DataFrame'>\n",
      "RangeIndex: 110527 entries, 0 to 110526\n",
      "Data columns (total 14 columns):\n",
      "PatientId         110527 non-null float64\n",
      "AppointmentID     110527 non-null int64\n",
      "Gender            110527 non-null object\n",
      "ScheduledDay      110527 non-null object\n",
      "AppointmentDay    110527 non-null object\n",
      "Age               110527 non-null int64\n",
      "Neighbourhood     110527 non-null object\n",
      "Scholarship       110527 non-null int64\n",
      "Hipertension      110527 non-null int64\n",
      "Diabetes          110527 non-null int64\n",
      "Alcoholism        110527 non-null int64\n",
      "Handcap           110527 non-null int64\n",
      "SMS_received      110527 non-null int64\n",
      "No-show           110527 non-null object\n",
      "dtypes: float64(1), int64(8), object(5)\n",
      "memory usage: 11.8+ MB\n"
     ]
    }
   ],
   "source": [
    "df.info()"
   ]
  },
  {
   "cell_type": "code",
   "execution_count": 310,
   "metadata": {},
   "outputs": [
    {
     "data": {
      "text/plain": [
       "(110527, 14)"
      ]
     },
     "execution_count": 310,
     "metadata": {},
     "output_type": "execute_result"
    }
   ],
   "source": [
    "df.shape"
   ]
  },
  {
   "cell_type": "markdown",
   "metadata": {},
   "source": [
    "### Data Cleaning "
   ]
  },
  {
   "cell_type": "markdown",
   "metadata": {},
   "source": [
    "<font size=4>After inspection of the data, AppointmentID cloumns are dropped from the dataset as it's not going to provide much information for the distribution of the data. </font>"
   ]
  },
  {
   "cell_type": "code",
   "execution_count": 311,
   "metadata": {},
   "outputs": [],
   "source": [
    "df.drop('AppointmentID', axis = 1, inplace = True)"
   ]
  },
  {
   "cell_type": "markdown",
   "metadata": {},
   "source": [
    "<font size=4> The rest of the columns in the dataset are the ones that I want to work with. To make the future naming easier, all the names are converted to lower case and the same format.</font>"
   ]
  },
  {
   "cell_type": "code",
   "execution_count": 312,
   "metadata": {
    "scrolled": true
   },
   "outputs": [
    {
     "data": {
      "text/plain": [
       "Index(['patientid', 'gender', 'scheduledday', 'appointmentday', 'age',\n",
       "       'neighbourhood', 'scholarship', 'hipertension', 'diabetes',\n",
       "       'alcoholism', 'handcap', 'sms_received', 'no-show'],\n",
       "      dtype='object')"
      ]
     },
     "execution_count": 312,
     "metadata": {},
     "output_type": "execute_result"
    }
   ],
   "source": [
    "df.columns.str.lower()"
   ]
  },
  {
   "cell_type": "code",
   "execution_count": 313,
   "metadata": {},
   "outputs": [],
   "source": [
    "df.columns = ['patient_id', 'gender', 'scheduled_day', 'appointment_day', 'age',\n",
    "       'neighbourhood', 'scholarship', 'hipertension', 'diabetes',\n",
    "       'alcoholism', 'handcap', 'sms_received', 'no_show']"
   ]
  },
  {
   "cell_type": "markdown",
   "metadata": {},
   "source": [
    "<font size=4> Examination of the patient_id shows that the unique number of id is smaller than the total number of entries meaning that multiple appointments are made by one patients. To work with the patient id, first the format needs to be changed to show the full id number. "
   ]
  },
  {
   "cell_type": "code",
   "execution_count": 314,
   "metadata": {},
   "outputs": [
    {
     "data": {
      "text/plain": [
       "62299"
      ]
     },
     "execution_count": 314,
     "metadata": {},
     "output_type": "execute_result"
    }
   ],
   "source": [
    "df.patient_id.nunique()"
   ]
  },
  {
   "cell_type": "code",
   "execution_count": 315,
   "metadata": {},
   "outputs": [],
   "source": [
    "pd.options.display.float_format = '{:20,.2f}'.format"
   ]
  },
  {
   "cell_type": "markdown",
   "metadata": {},
   "source": [
    "[reference1](https://stackoverflow.com/questions/17737300/suppressing-scientific-notation-in-pandas/41023046)"
   ]
  },
  {
   "cell_type": "code",
   "execution_count": 316,
   "metadata": {},
   "outputs": [],
   "source": [
    "df['patient_id'] = df.patient_id.astype(int)"
   ]
  },
  {
   "cell_type": "markdown",
   "metadata": {},
   "source": [
    "<font size=4> Examination of the scheduled_day and appointment_day revealed that the type of the data is string and contains extra characters thus making it diffcult to work with. To better work with the time both scheduled_day and appointment_day  were coverted to datetime. For the scheduled_day the exact hour is omitted to keep consistency with  appointment_day and to make it easier to read.</font>"
   ]
  },
  {
   "cell_type": "code",
   "execution_count": 317,
   "metadata": {
    "scrolled": true
   },
   "outputs": [],
   "source": [
    "df.scheduled_day = pd.to_datetime(df.scheduled_day)"
   ]
  },
  {
   "cell_type": "code",
   "execution_count": 318,
   "metadata": {},
   "outputs": [],
   "source": [
    "df.appointment_day = pd.to_datetime(df.appointment_day)"
   ]
  },
  {
   "cell_type": "code",
   "execution_count": 319,
   "metadata": {},
   "outputs": [],
   "source": [
    "df.scheduled_day = df.scheduled_day.apply(lambda x:x.date())"
   ]
  },
  {
   "cell_type": "markdown",
   "metadata": {},
   "source": [
    "[reference2](https://stackoverflow.com/questions/16176996/keep-only-date-part-when-using-pandas-to-datetime)"
   ]
  },
  {
   "cell_type": "code",
   "execution_count": 320,
   "metadata": {},
   "outputs": [],
   "source": [
    "df.scheduled_day = pd.to_datetime(df.scheduled_day)"
   ]
  },
  {
   "cell_type": "markdown",
   "metadata": {},
   "source": [
    "<font size=4> A new column time_gap is made to identify the days between scheduled_day and appointment_day. A closer look at this new columns shows that five entries contain time_gap that is less than 0. This is impossible and might be due to miss typing. For this reason, these rows are omitted."
   ]
  },
  {
   "cell_type": "code",
   "execution_count": 321,
   "metadata": {},
   "outputs": [],
   "source": [
    "df['time_gap'] = (df.appointment_day - df.scheduled_day).astype('timedelta64[h]') / 24"
   ]
  },
  {
   "cell_type": "markdown",
   "metadata": {},
   "source": [
    "[reference3](https://stackoverflow.com/questions/46222988/getting-difference-in-two-datetime-columns-in-pandas-dataframe)"
   ]
  },
  {
   "cell_type": "code",
   "execution_count": 322,
   "metadata": {},
   "outputs": [
    {
     "data": {
      "text/plain": [
       "Int64Index([27033, 55226, 64175, 71533, 72362], dtype='int64')"
      ]
     },
     "execution_count": 322,
     "metadata": {},
     "output_type": "execute_result"
    }
   ],
   "source": [
    "df[df['time_gap'] < 0].index"
   ]
  },
  {
   "cell_type": "code",
   "execution_count": 323,
   "metadata": {},
   "outputs": [],
   "source": [
    "df.drop(df[df['time_gap'] < 0].index, axis = 0, inplace= True)"
   ]
  },
  {
   "cell_type": "code",
   "execution_count": 324,
   "metadata": {},
   "outputs": [
    {
     "data": {
      "text/html": [
       "<div>\n",
       "<style scoped>\n",
       "    .dataframe tbody tr th:only-of-type {\n",
       "        vertical-align: middle;\n",
       "    }\n",
       "\n",
       "    .dataframe tbody tr th {\n",
       "        vertical-align: top;\n",
       "    }\n",
       "\n",
       "    .dataframe thead th {\n",
       "        text-align: right;\n",
       "    }\n",
       "</style>\n",
       "<table border=\"1\" class=\"dataframe\">\n",
       "  <thead>\n",
       "    <tr style=\"text-align: right;\">\n",
       "      <th></th>\n",
       "      <th>patient_id</th>\n",
       "      <th>gender</th>\n",
       "      <th>scheduled_day</th>\n",
       "      <th>appointment_day</th>\n",
       "      <th>age</th>\n",
       "      <th>neighbourhood</th>\n",
       "      <th>scholarship</th>\n",
       "      <th>hipertension</th>\n",
       "      <th>diabetes</th>\n",
       "      <th>alcoholism</th>\n",
       "      <th>handcap</th>\n",
       "      <th>sms_received</th>\n",
       "      <th>no_show</th>\n",
       "      <th>time_gap</th>\n",
       "    </tr>\n",
       "  </thead>\n",
       "  <tbody>\n",
       "  </tbody>\n",
       "</table>\n",
       "</div>"
      ],
      "text/plain": [
       "Empty DataFrame\n",
       "Columns: [patient_id, gender, scheduled_day, appointment_day, age, neighbourhood, scholarship, hipertension, diabetes, alcoholism, handcap, sms_received, no_show, time_gap]\n",
       "Index: []"
      ]
     },
     "execution_count": 324,
     "metadata": {},
     "output_type": "execute_result"
    }
   ],
   "source": [
    "df[df['time_gap'] < 0]"
   ]
  },
  {
   "cell_type": "markdown",
   "metadata": {},
   "source": [
    "<font size=4> Examination of the columns scholarship, sms_received, hipertension, diabetes, alcoholism reveals that these columns onlu consist of value 0 and 1, representing False and True. In this case, these columns are changed to boolean with 0 represented by False and 1 represented by True. </font>"
   ]
  },
  {
   "cell_type": "code",
   "execution_count": 325,
   "metadata": {},
   "outputs": [
    {
     "data": {
      "text/plain": [
       "0    99661\n",
       "1    10861\n",
       "Name: scholarship, dtype: int64"
      ]
     },
     "execution_count": 325,
     "metadata": {},
     "output_type": "execute_result"
    }
   ],
   "source": [
    "df.scholarship.value_counts()"
   ]
  },
  {
   "cell_type": "code",
   "execution_count": 326,
   "metadata": {},
   "outputs": [
    {
     "data": {
      "text/plain": [
       "0    75040\n",
       "1    35482\n",
       "Name: sms_received, dtype: int64"
      ]
     },
     "execution_count": 326,
     "metadata": {},
     "output_type": "execute_result"
    }
   ],
   "source": [
    "df.sms_received.value_counts()"
   ]
  },
  {
   "cell_type": "code",
   "execution_count": 327,
   "metadata": {},
   "outputs": [
    {
     "data": {
      "text/plain": [
       "0    88721\n",
       "1    21801\n",
       "Name: hipertension, dtype: int64"
      ]
     },
     "execution_count": 327,
     "metadata": {},
     "output_type": "execute_result"
    }
   ],
   "source": [
    "df.hipertension.value_counts()"
   ]
  },
  {
   "cell_type": "code",
   "execution_count": 328,
   "metadata": {},
   "outputs": [
    {
     "data": {
      "text/plain": [
       "0    102579\n",
       "1      7943\n",
       "Name: diabetes, dtype: int64"
      ]
     },
     "execution_count": 328,
     "metadata": {},
     "output_type": "execute_result"
    }
   ],
   "source": [
    "df.diabetes.value_counts()"
   ]
  },
  {
   "cell_type": "code",
   "execution_count": 329,
   "metadata": {},
   "outputs": [
    {
     "data": {
      "text/plain": [
       "0    107162\n",
       "1      3360\n",
       "Name: alcoholism, dtype: int64"
      ]
     },
     "execution_count": 329,
     "metadata": {},
     "output_type": "execute_result"
    }
   ],
   "source": [
    "df.alcoholism.value_counts()"
   ]
  },
  {
   "cell_type": "code",
   "execution_count": 330,
   "metadata": {},
   "outputs": [],
   "source": [
    "df.alcoholism = df['alcoholism'] == 1"
   ]
  },
  {
   "cell_type": "code",
   "execution_count": 331,
   "metadata": {},
   "outputs": [],
   "source": [
    "columns = ['scholarship', 'sms_received', 'hipertension', 'diabetes']\n",
    "\n",
    "for c in columns:\n",
    "    df[c] = df[c] == 1"
   ]
  },
  {
   "cell_type": "markdown",
   "metadata": {},
   "source": [
    "<font size=4><span style=\"color:red\">Examinnation of the age reveals that the age contains some negatuve values which is unlikely, those values are omitted.</font>"
   ]
  },
  {
   "cell_type": "code",
   "execution_count": 332,
   "metadata": {},
   "outputs": [],
   "source": [
    "to_drop = df.query('age < 0')"
   ]
  },
  {
   "cell_type": "code",
   "execution_count": 333,
   "metadata": {
    "scrolled": true
   },
   "outputs": [],
   "source": [
    "df.drop(to_drop.index, axis = 0, inplace = True)"
   ]
  },
  {
   "cell_type": "markdown",
   "metadata": {},
   "source": [
    "[reference4](https://stackoverflow.com/questions/14661701/how-to-drop-a-list-of-rows-from-pandas-dataframe)"
   ]
  },
  {
   "cell_type": "markdown",
   "metadata": {},
   "source": [
    "<a id='eda'></a>\n",
    "## Exploratory Data Analysis"
   ]
  },
  {
   "cell_type": "markdown",
   "metadata": {},
   "source": [
    "<font size=4> First for the better analysis of the data, missed and showed are defined as a series of boolean."
   ]
  },
  {
   "cell_type": "code",
   "execution_count": 334,
   "metadata": {},
   "outputs": [],
   "source": [
    "missed = df['no_show'] == 'Yes'\n",
    "showed = df['no_show'] == 'No'"
   ]
  },
  {
   "cell_type": "markdown",
   "metadata": {},
   "source": [
    "### 1. How is the days between scheduled_day and appointment_day affecting if a patient will show up for the appointment?"
   ]
  },
  {
   "cell_type": "markdown",
   "metadata": {},
   "source": [
    "<font size=4> First the time_gap is examined and it's found that the mean time_gap is 10 days with the maximum being 179 days."
   ]
  },
  {
   "cell_type": "code",
   "execution_count": 335,
   "metadata": {},
   "outputs": [
    {
     "data": {
      "text/plain": [
       "count             110,521.00\n",
       "mean                   10.18\n",
       "std                    15.26\n",
       "min                     0.00\n",
       "25%                     0.00\n",
       "50%                     4.00\n",
       "75%                    15.00\n",
       "max                   179.00\n",
       "Name: time_gap, dtype: float64"
      ]
     },
     "execution_count": 335,
     "metadata": {},
     "output_type": "execute_result"
    }
   ],
   "source": [
    "df.time_gap.describe()"
   ]
  },
  {
   "cell_type": "markdown",
   "metadata": {},
   "source": [
    "<font size=4> The average time_gap for missed appointments is 15.8 days while for the showed appointments the value is 8.8 days. This means that there is a correlation between the time_gap and the tendency to show up for the appointment. Teh patients who missed the appointment have a higher time_gap than those that showed up for the appointments. "
   ]
  },
  {
   "cell_type": "code",
   "execution_count": 336,
   "metadata": {},
   "outputs": [
    {
     "name": "stdout",
     "output_type": "stream",
     "text": [
      "15.835484449224701\n",
      "8.754758692620767\n"
     ]
    }
   ],
   "source": [
    "print (df.time_gap[missed].mean())\n",
    "print (df.time_gap[showed].mean())"
   ]
  },
  {
   "cell_type": "markdown",
   "metadata": {},
   "source": [
    "<font size=4> From the following the proportion of missed appointments against all appointments is calculated. For around 20% of the appointments the patients didn't show up."
   ]
  },
  {
   "cell_type": "code",
   "execution_count": 337,
   "metadata": {},
   "outputs": [
    {
     "name": "stdout",
     "output_type": "stream",
     "text": [
      "22314\n",
      "110521\n",
      "0.2018982817745044\n"
     ]
    }
   ],
   "source": [
    "print (df.no_show[missed].count())\n",
    "print (df.no_show.count())\n",
    "print (df.no_show[missed].count() / df.no_show.count())"
   ]
  },
  {
   "cell_type": "markdown",
   "metadata": {},
   "source": [
    "<font size=4> In the following sections, the time_gap are divided into four areas ['0', '1-4', '5-15', '15-179']. In each of these areas, the proportion of people who missed the appointments are calculated."
   ]
  },
  {
   "cell_type": "code",
   "execution_count": 338,
   "metadata": {},
   "outputs": [
    {
     "name": "stdout",
     "output_type": "stream",
     "text": [
      "1792\n",
      "38562\n",
      "0.046470618743841084\n"
     ]
    },
    {
     "name": "stderr",
     "output_type": "stream",
     "text": [
      "/anaconda2/envs/python3/lib/python3.6/site-packages/ipykernel/__main__.py:1: UserWarning: Boolean Series key will be reindexed to match DataFrame index.\n",
      "  if __name__ == '__main__':\n",
      "/anaconda2/envs/python3/lib/python3.6/site-packages/ipykernel/__main__.py:4: UserWarning: Boolean Series key will be reindexed to match DataFrame index.\n"
     ]
    }
   ],
   "source": [
    "print (df.query('time_gap == 0')[missed].count().no_show)\n",
    "total_25 = df.query('time_gap == 0').count().no_show\n",
    "print (total_25)\n",
    "prop_25 = df.query('time_gap == 0')[missed].count().no_show / total_25\n",
    "print (prop_25)"
   ]
  },
  {
   "cell_type": "code",
   "execution_count": 339,
   "metadata": {
    "scrolled": true
   },
   "outputs": [
    {
     "name": "stdout",
     "output_type": "stream",
     "text": [
      "4590\n",
      "19965\n",
      "0.2299023290758828\n"
     ]
    },
    {
     "name": "stderr",
     "output_type": "stream",
     "text": [
      "/anaconda2/envs/python3/lib/python3.6/site-packages/ipykernel/__main__.py:1: UserWarning: Boolean Series key will be reindexed to match DataFrame index.\n",
      "  if __name__ == '__main__':\n",
      "/anaconda2/envs/python3/lib/python3.6/site-packages/ipykernel/__main__.py:4: UserWarning: Boolean Series key will be reindexed to match DataFrame index.\n"
     ]
    }
   ],
   "source": [
    "print (df.query('time_gap <= 4 & time_gap > 0')[missed].count().no_show)\n",
    "total_50 = df.query('time_gap <= 4 & time_gap > 0').count().no_show\n",
    "print (total_50)\n",
    "prop_50 = df.query('time_gap <= 4 & time_gap > 0')[missed].count().no_show / total_50\n",
    "print (prop_50)"
   ]
  },
  {
   "cell_type": "code",
   "execution_count": 340,
   "metadata": {},
   "outputs": [
    {
     "name": "stdout",
     "output_type": "stream",
     "text": [
      "7348\n",
      "25748\n",
      "0.2853813888457356\n"
     ]
    },
    {
     "name": "stderr",
     "output_type": "stream",
     "text": [
      "/anaconda2/envs/python3/lib/python3.6/site-packages/ipykernel/__main__.py:1: UserWarning: Boolean Series key will be reindexed to match DataFrame index.\n",
      "  if __name__ == '__main__':\n",
      "/anaconda2/envs/python3/lib/python3.6/site-packages/ipykernel/__main__.py:4: UserWarning: Boolean Series key will be reindexed to match DataFrame index.\n"
     ]
    }
   ],
   "source": [
    "print (df.query('time_gap > 4 & time_gap <= 15')[missed].count().no_show)\n",
    "total_75 = df.query('time_gap > 4 & time_gap <= 15').count().no_show\n",
    "print (total_75)\n",
    "prop_75 = df.query('time_gap > 4 & time_gap <= 15')[missed].count().no_show / total_75\n",
    "print (prop_75)"
   ]
  },
  {
   "cell_type": "code",
   "execution_count": 341,
   "metadata": {},
   "outputs": [
    {
     "name": "stderr",
     "output_type": "stream",
     "text": [
      "/anaconda2/envs/python3/lib/python3.6/site-packages/ipykernel/__main__.py:1: UserWarning: Boolean Series key will be reindexed to match DataFrame index.\n",
      "  if __name__ == '__main__':\n"
     ]
    },
    {
     "name": "stdout",
     "output_type": "stream",
     "text": [
      "8584\n",
      "26246\n",
      "0.3270593614265031\n"
     ]
    },
    {
     "name": "stderr",
     "output_type": "stream",
     "text": [
      "/anaconda2/envs/python3/lib/python3.6/site-packages/ipykernel/__main__.py:4: UserWarning: Boolean Series key will be reindexed to match DataFrame index.\n"
     ]
    }
   ],
   "source": [
    "print (df.query('time_gap > 15')[missed].count().no_show)\n",
    "total_100 = df.query('time_gap > 15').count().no_show\n",
    "print (total_100)\n",
    "prop_100 = df.query('time_gap > 15')[missed].count().no_show / total_100\n",
    "print (prop_100)"
   ]
  },
  {
   "cell_type": "markdown",
   "metadata": {},
   "source": [
    "<font size=4> Below the bar chart of the no show proportion versus gap days between scheduled day and appointment day is drawn. From this graph it's apparent that when the appointment day is further away from the scheduled day, the no_show value is increasing. This is reasonable as the further the appointment day is in the future, the more likely people will forget about the appointment."
   ]
  },
  {
   "cell_type": "code",
   "execution_count": 342,
   "metadata": {},
   "outputs": [
    {
     "data": {
      "image/png": "[encoded data removed]",
      "text/plain": [
       "<Figure size 432x288 with 1 Axes>"
      ]
     },
     "metadata": {},
     "output_type": "display_data"
    }
   ],
   "source": [
    "loc = np.arange(4)\n",
    "width = 0.4\n",
    "labels = ['0', '1-4', '5-15', '15-179']\n",
    "plt.bar(loc, [prop_25, prop_50, prop_75, prop_100], width)\n",
    "plt.xlabel('Days', size = 14)\n",
    "plt.ylabel('Proportion', size = 14)\n",
    "plt.title('No show appointment proportion vs Days', size = 14)\n",
    "plt.xticks(loc, labels);"
   ]
  },
  {
   "cell_type": "code",
   "execution_count": 343,
   "metadata": {},
   "outputs": [
    {
     "data": {
      "image/png": "[encoded data removed]",
      "text/plain": [
       "<Figure size 432x288 with 1 Axes>"
      ]
     },
     "metadata": {},
     "output_type": "display_data"
    }
   ],
   "source": [
    "loc = np.arange(4)\n",
    "labels = ['0', '1-4', '5-15', '15-179']\n",
    "plt.scatter(loc, [prop_25, prop_50, prop_75, prop_100])\n",
    "plt.xlabel('Days', size = 14)\n",
    "plt.ylabel('Proportion', size = 14)\n",
    "plt.title('No show appointment proportion vs Days', size = 14)\n",
    "plt.xticks(loc, labels);"
   ]
  },
  {
   "cell_type": "markdown",
   "metadata": {},
   "source": [
    "###  2. How is the age and gender affecting if a patient will show up for the appointment?"
   ]
  },
  {
   "cell_type": "markdown",
   "metadata": {},
   "source": [
    "<font size=4> To probe that, first the total number of female and male patients are examined and it's found that much more female is scheduled than male.</font>"
   ]
  },
  {
   "cell_type": "code",
   "execution_count": 344,
   "metadata": {},
   "outputs": [
    {
     "data": {
      "text/plain": [
       "F    71836\n",
       "M    38685\n",
       "Name: gender, dtype: int64"
      ]
     },
     "execution_count": 344,
     "metadata": {},
     "output_type": "execute_result"
    }
   ],
   "source": [
    "df.gender.value_counts()"
   ]
  },
  {
   "cell_type": "markdown",
   "metadata": {},
   "source": [
    "<font size=4>  The number of male and female that missed the appointment are counted and plotted as a bar chart. It can be found from the following bar chart that the total number of female who missed the appointment is much higher than male. However, as the number of female patients are higher that the male, this is not surprising. To make a better correlation of no show vs gender,  the proportion of the people who missed the appointment should be examined rather than the total number.</font>\n"
   ]
  },
  {
   "cell_type": "code",
   "execution_count": 345,
   "metadata": {},
   "outputs": [
    {
     "data": {
      "image/png": "[encoded data removed]",
      "text/plain": [
       "<Figure size 432x288 with 1 Axes>"
      ]
     },
     "metadata": {},
     "output_type": "display_data"
    }
   ],
   "source": [
    "missed_counts = df.gender[missed].value_counts()\n",
    "loc = [1,2]\n",
    "width = 0.4\n",
    "fig = plt.figure(figsize=(6,4))\n",
    "plt.bar(loc, missed_counts, width)\n",
    "plt.xlabel('Gender', size = 16)\n",
    "plt.ylabel('Counts', size =16)\n",
    "plt.title('Missed schedule vs Gender', size = 16)\n",
    "plt.xticks(loc, ['F', 'M']);"
   ]
  },
  {
   "cell_type": "markdown",
   "metadata": {},
   "source": [
    "<font size=4> The proportion of female and male patients who missed the appointment is calculated</font>\n"
   ]
  },
  {
   "cell_type": "code",
   "execution_count": 346,
   "metadata": {
    "scrolled": true
   },
   "outputs": [
    {
     "name": "stderr",
     "output_type": "stream",
     "text": [
      "/anaconda2/envs/python3/lib/python3.6/site-packages/ipykernel/__main__.py:1: UserWarning: Boolean Series key will be reindexed to match DataFrame index.\n",
      "  if __name__ == '__main__':\n"
     ]
    },
    {
     "data": {
      "text/plain": [
       "0.19963810262375598"
      ]
     },
     "execution_count": 346,
     "metadata": {},
     "output_type": "execute_result"
    }
   ],
   "source": [
    "df_missed_m = df.query('gender == \"M\"')[missed]\n",
    "df_missed_m_prop = df_missed_m.gender.count() / df.query('gender == \"M\"').gender.count()\n",
    "df_missed_m_prop"
   ]
  },
  {
   "cell_type": "code",
   "execution_count": 347,
   "metadata": {},
   "outputs": [
    {
     "name": "stderr",
     "output_type": "stream",
     "text": [
      "/anaconda2/envs/python3/lib/python3.6/site-packages/ipykernel/__main__.py:1: UserWarning: Boolean Series key will be reindexed to match DataFrame index.\n",
      "  if __name__ == '__main__':\n"
     ]
    },
    {
     "data": {
      "text/plain": [
       "0.2031154295896208"
      ]
     },
     "execution_count": 347,
     "metadata": {},
     "output_type": "execute_result"
    }
   ],
   "source": [
    "df_missed_f = df.query('gender == \"F\"')[missed]\n",
    "df_missed_f_prop = df_missed_f.gender.count() / df.query('gender == \"F\"').gender.count()\n",
    "df_missed_f_prop"
   ]
  },
  {
   "cell_type": "markdown",
   "metadata": {},
   "source": [
    "<font size=4> The bar chart of the proportion of female and male patients who missed the appointment is plotted. From the following bar chart we can see that the proportion of female and male patients who didn't show up for the appointment is almost the same, therefore it suggests that the gender is not related to the missing of appointment.</font>\n"
   ]
  },
  {
   "cell_type": "code",
   "execution_count": 348,
   "metadata": {},
   "outputs": [
    {
     "data": {
      "image/png": "[encoded data removed]",
      "text/plain": [
       "<Figure size 432x288 with 1 Axes>"
      ]
     },
     "metadata": {},
     "output_type": "display_data"
    }
   ],
   "source": [
    "width = 0.4\n",
    "loc = [1,2]\n",
    "plt.bar(loc, [df_missed_f_prop, df_missed_m_prop], width)\n",
    "plt.xlabel('Gender', size = 16)\n",
    "plt.ylabel('Proportions', size =16)\n",
    "plt.title('Missed schedule vs Gender', size = 16)\n",
    "plt.xticks(loc, ['F', 'M']);"
   ]
  },
  {
   "cell_type": "markdown",
   "metadata": {},
   "source": [
    "<font size=4><span style=\"color:red\"> The bar chart of the proportion of age over 60 and below 60 patients who missed the appointment is plotted. From the following bar chart we can see that the proportion of elder patients who didn't show up for the appointment is lower. This is reasonable as elder people might have more healthy problems than younger people and therefore will be more likely to keed the appointments.</font>"
   ]
  },
  {
   "cell_type": "code",
   "execution_count": 349,
   "metadata": {},
   "outputs": [
    {
     "name": "stderr",
     "output_type": "stream",
     "text": [
      "/anaconda2/envs/python3/lib/python3.6/site-packages/ipykernel/__main__.py:1: UserWarning: Boolean Series key will be reindexed to match DataFrame index.\n",
      "  if __name__ == '__main__':\n"
     ]
    },
    {
     "data": {
      "text/plain": [
       "0.1530795390137918"
      ]
     },
     "execution_count": 349,
     "metadata": {},
     "output_type": "execute_result"
    }
   ],
   "source": [
    "df_missed_h = df.query('age >= 60')[missed]\n",
    "df_missed_h_prop = df_missed_h.age.count() / df.query('age >= 60').age.count()\n",
    "df_missed_h_prop"
   ]
  },
  {
   "cell_type": "code",
   "execution_count": 350,
   "metadata": {},
   "outputs": [
    {
     "name": "stderr",
     "output_type": "stream",
     "text": [
      "/anaconda2/envs/python3/lib/python3.6/site-packages/ipykernel/__main__.py:1: UserWarning: Boolean Series key will be reindexed to match DataFrame index.\n",
      "  if __name__ == '__main__':\n"
     ]
    },
    {
     "data": {
      "text/plain": [
       "0.21346629509004017"
      ]
     },
     "execution_count": 350,
     "metadata": {},
     "output_type": "execute_result"
    }
   ],
   "source": [
    "df_missed_l = df.query('age < 60')[missed]\n",
    "df_missed_l_prop = df_missed_l.age.count() / df.query('age < 60').age.count()\n",
    "df_missed_l_prop"
   ]
  },
  {
   "cell_type": "code",
   "execution_count": 351,
   "metadata": {},
   "outputs": [
    {
     "data": {
      "image/png": "[encoded data removed]",
      "text/plain": [
       "<Figure size 432x288 with 1 Axes>"
      ]
     },
     "metadata": {},
     "output_type": "display_data"
    }
   ],
   "source": [
    "width = 0.4\n",
    "loc = [1,2]\n",
    "plt.bar(loc, [df_missed_l_prop, df_missed_h_prop], width)\n",
    "plt.xlabel('Age', size = 16)\n",
    "plt.ylabel('Proportions', size =16)\n",
    "plt.title('Missed schedule vs Age', size = 16)\n",
    "plt.xticks(loc, ['< 60', '>= 60']);"
   ]
  },
  {
   "cell_type": "markdown",
   "metadata": {},
   "source": [
    "<font size=4><span style=\"color:red\"> Since there seems to a correlation between the patients who missed the appoitment versus age, in the next section the correlation is explored in more detail. First the age is devided into four levels based on the value of 25%, 50% and 75% quartile.</font>"
   ]
  },
  {
   "cell_type": "code",
   "execution_count": 352,
   "metadata": {},
   "outputs": [
    {
     "data": {
      "text/html": [
       "<div>\n",
       "<style scoped>\n",
       "    .dataframe tbody tr th:only-of-type {\n",
       "        vertical-align: middle;\n",
       "    }\n",
       "\n",
       "    .dataframe tbody tr th {\n",
       "        vertical-align: top;\n",
       "    }\n",
       "\n",
       "    .dataframe thead th {\n",
       "        text-align: right;\n",
       "    }\n",
       "</style>\n",
       "<table border=\"1\" class=\"dataframe\">\n",
       "  <thead>\n",
       "    <tr style=\"text-align: right;\">\n",
       "      <th></th>\n",
       "      <th>patient_id</th>\n",
       "      <th>age</th>\n",
       "      <th>handcap</th>\n",
       "      <th>time_gap</th>\n",
       "    </tr>\n",
       "  </thead>\n",
       "  <tbody>\n",
       "    <tr>\n",
       "      <th>count</th>\n",
       "      <td>110,521.00</td>\n",
       "      <td>110,521.00</td>\n",
       "      <td>110,521.00</td>\n",
       "      <td>110,521.00</td>\n",
       "    </tr>\n",
       "    <tr>\n",
       "      <th>mean</th>\n",
       "      <td>147,490,629,021,863.69</td>\n",
       "      <td>37.09</td>\n",
       "      <td>0.02</td>\n",
       "      <td>10.18</td>\n",
       "    </tr>\n",
       "    <tr>\n",
       "      <th>std</th>\n",
       "      <td>256,085,972,718,815.62</td>\n",
       "      <td>23.11</td>\n",
       "      <td>0.16</td>\n",
       "      <td>15.26</td>\n",
       "    </tr>\n",
       "    <tr>\n",
       "      <th>min</th>\n",
       "      <td>39,217.00</td>\n",
       "      <td>0.00</td>\n",
       "      <td>0.00</td>\n",
       "      <td>0.00</td>\n",
       "    </tr>\n",
       "    <tr>\n",
       "      <th>25%</th>\n",
       "      <td>4,172,457,111,246.00</td>\n",
       "      <td>18.00</td>\n",
       "      <td>0.00</td>\n",
       "      <td>0.00</td>\n",
       "    </tr>\n",
       "    <tr>\n",
       "      <th>50%</th>\n",
       "      <td>31,731,846,175,313.00</td>\n",
       "      <td>37.00</td>\n",
       "      <td>0.00</td>\n",
       "      <td>4.00</td>\n",
       "    </tr>\n",
       "    <tr>\n",
       "      <th>75%</th>\n",
       "      <td>94,389,629,939,367.00</td>\n",
       "      <td>55.00</td>\n",
       "      <td>0.00</td>\n",
       "      <td>15.00</td>\n",
       "    </tr>\n",
       "    <tr>\n",
       "      <th>max</th>\n",
       "      <td>999,981,631,772,427.00</td>\n",
       "      <td>115.00</td>\n",
       "      <td>4.00</td>\n",
       "      <td>179.00</td>\n",
       "    </tr>\n",
       "  </tbody>\n",
       "</table>\n",
       "</div>"
      ],
      "text/plain": [
       "                  patient_id                  age              handcap  \\\n",
       "count             110,521.00           110,521.00           110,521.00   \n",
       "mean  147,490,629,021,863.69                37.09                 0.02   \n",
       "std   256,085,972,718,815.62                23.11                 0.16   \n",
       "min                39,217.00                 0.00                 0.00   \n",
       "25%     4,172,457,111,246.00                18.00                 0.00   \n",
       "50%    31,731,846,175,313.00                37.00                 0.00   \n",
       "75%    94,389,629,939,367.00                55.00                 0.00   \n",
       "max   999,981,631,772,427.00               115.00                 4.00   \n",
       "\n",
       "                  time_gap  \n",
       "count           110,521.00  \n",
       "mean                 10.18  \n",
       "std                  15.26  \n",
       "min                   0.00  \n",
       "25%                   0.00  \n",
       "50%                   4.00  \n",
       "75%                  15.00  \n",
       "max                 179.00  "
      ]
     },
     "execution_count": 352,
     "metadata": {},
     "output_type": "execute_result"
    }
   ],
   "source": [
    "df.describe()"
   ]
  },
  {
   "cell_type": "code",
   "execution_count": 354,
   "metadata": {},
   "outputs": [],
   "source": [
    "bin_edges = [0.00, 18.00, 37.00, 55.00, 115.00]\n",
    "bin_names = ['0-18', '18-37', '37-55', '55-115']\n",
    "df['age_group'] = pd.cut(df['age'], bin_edges, labels = bin_names)"
   ]
  },
  {
   "cell_type": "code",
   "execution_count": 439,
   "metadata": {
    "scrolled": false
   },
   "outputs": [
    {
     "data": {
      "text/plain": [
       "age_group\n",
       "0-18                     0.23\n",
       "18-37                    0.24\n",
       "37-55                    0.20\n",
       "55-115                   0.16\n",
       "Name: age, dtype: float64"
      ]
     },
     "execution_count": 439,
     "metadata": {},
     "output_type": "execute_result"
    }
   ],
   "source": [
    "age_missed_total = df.groupby(['no_show','age_group']).count().age['Yes']\n",
    "age_total = df.groupby(['age_group']).count().age\n",
    "age_missed_prop = missed_total / age_total\n",
    "age_missed_prop"
   ]
  },
  {
   "cell_type": "markdown",
   "metadata": {},
   "source": [
    "<font size=4><span style=\"color:red\"> The proportion of the patients who missed the appointments are caluculated and plotted in different age range. It's found that for the age of 18-37 there's the highest value of missing appointments. This is reasonable as the people in this age range tend to be busier than the other age groups and there for will miss the appointments more easily. The age 55 and above has the lowest missing appointments proportions. This is also the same as what is found in the previous bar chart.</font>"
   ]
  },
  {
   "cell_type": "code",
   "execution_count": 453,
   "metadata": {
    "scrolled": true
   },
   "outputs": [
    {
     "data": {
      "image/png": "[encoded data removed]",
      "text/plain": [
       "<Figure size 432x288 with 1 Axes>"
      ]
     },
     "metadata": {},
     "output_type": "display_data"
    }
   ],
   "source": [
    "loc = [1,2,3,4]\n",
    "width = 0.4\n",
    "plt.bar(loc, age_missed_prop, width)\n",
    "plt.xticks(loc, bin_names)\n",
    "plt.xlabel('Age', size = 16)\n",
    "plt.ylabel('Proportion', size = 16)\n",
    "plt.title('Missed schedule vs Age', size = 16);"
   ]
  },
  {
   "cell_type": "code",
   "execution_count": 430,
   "metadata": {},
   "outputs": [
    {
     "data": {
      "image/png": "[encoded data removed]",
      "text/plain": [
       "<Figure size 432x288 with 1 Axes>"
      ]
     },
     "metadata": {},
     "output_type": "display_data"
    }
   ],
   "source": [
    "labels = ['0-18', '18-37', '37-55', '55-115']\n",
    "sizes = age_missed_prop\n",
    "\n",
    "fig1, ax1 = plt.subplots()\n",
    "ax1.pie(age_missed_total, labels=labels, autopct='%1.1f%%',shadow=True)\n",
    "ax1.axis('equal')\n",
    "plt.title('Missed schedule vs Age', size = 16);"
   ]
  },
  {
   "cell_type": "markdown",
   "metadata": {},
   "source": [
    "[reference4](https://matplotlib.org/gallery/pie_and_polar_charts/pie_features.html)"
   ]
  },
  {
   "cell_type": "markdown",
   "metadata": {},
   "source": [
    "<font size=4><span style=\"color:red\"> In the next section the gender among different age groups are analyzed and plotted as bar chart. It has been found in the previous missed schedule vs gender plot the there's no correlation between not showing to the appointments vs gender.  </font>"
   ]
  },
  {
   "cell_type": "code",
   "execution_count": 445,
   "metadata": {},
   "outputs": [],
   "source": [
    "female_age = df.groupby(['no_show', 'gender', 'age_group']).count().age['Yes']['F']\n",
    "male_age = df.groupby(['no_show', 'gender', 'age_group']).count().age['Yes']['M']"
   ]
  },
  {
   "cell_type": "code",
   "execution_count": 402,
   "metadata": {
    "scrolled": true
   },
   "outputs": [],
   "source": [
    "female_prop = female_age / age_total\n",
    "male_prop = male_age / age_total"
   ]
  },
  {
   "cell_type": "code",
   "execution_count": 421,
   "metadata": {
    "scrolled": true
   },
   "outputs": [
    {
     "data": {
      "image/png": "[encoded data removed]",
      "text/plain": [
       "<Figure size 432x288 with 1 Axes>"
      ]
     },
     "metadata": {},
     "output_type": "display_data"
    }
   ],
   "source": [
    "sns.set_style('darkgrid')\n",
    "\n",
    "ind = np.arange(4) + 1\n",
    "width = 0.25\n",
    "age_bar = plt.bar(ind - width, age_missed_prop, width, alpha=.7, color = 'r', label = 'age')\n",
    "age_female_bar = plt.bar(ind, female_prop, width, alpha=.7, color = 'g', label = 'age_female')\n",
    "age_male_bar = plt.bar(ind + width, male_prop, width, alpha=.7, color = 'b', label = 'age_male')\n",
    "labels = bin_names\n",
    "plt.xticks(loc, bin_names)\n",
    "plt.xlabel('Age', size = 16)\n",
    "plt.ylabel('Proportion', size = 16)\n",
    "plt.title('Missed schedule Proportion vs Age', size = 16)\n",
    "plt.legend();"
   ]
  },
  {
   "cell_type": "code",
   "execution_count": 437,
   "metadata": {
    "scrolled": true
   },
   "outputs": [
    {
     "data": {
      "image/png": "[encoded data removed]",
      "text/plain": [
       "<Figure size 432x288 with 1 Axes>"
      ]
     },
     "metadata": {},
     "output_type": "display_data"
    }
   ],
   "source": [
    "sns.set_style('darkgrid')\n",
    "\n",
    "ind = np.arange(4) + 1\n",
    "width = 0.25\n",
    "p0 = plt.bar(ind, age_missed_prop, width, alpha=.7, color = 'r', label = 'age')\n",
    "p1 = plt.bar(ind + width, female_prop,  width, alpha=.7, color = 'g', label = 'age_female')\n",
    "p2 = plt.bar(ind + width, male_prop, width, alpha=.7, color = 'b', bottom=female_prop, label = 'age_male')\n",
    "\n",
    "plt.xticks(loc, bin_names)\n",
    "plt.xlabel('Age', size = 16)\n",
    "plt.ylabel('Proportion', size = 16)\n",
    "plt.title('Missed schedule Proportion vs Age', size = 16)\n",
    "plt.legend();"
   ]
  },
  {
   "cell_type": "markdown",
   "metadata": {},
   "source": [
    " <font size=4><span style=\"color:red\"> When the gender is plotted in different age groups, it is found that in the age group of 0-18 the female and male who missed the appointments is very close. Looking at the distribution of female and male in different age groups it's not surprising since male patients that fall in the age range of 0-18 is very close the the female patients."
   ]
  },
  {
   "cell_type": "code",
   "execution_count": 452,
   "metadata": {},
   "outputs": [
    {
     "name": "stdout",
     "output_type": "stream",
     "text": [
      "age_group\n",
      "0-18      13233\n",
      "18-37     19820\n",
      "37-55     18504\n",
      "55-115    18558\n",
      "Name: age, dtype: int64\n",
      "age_group\n",
      "0-18      12093\n",
      "18-37      7428\n",
      "37-55      8401\n",
      "55-115     8945\n",
      "Name: age, dtype: int64\n"
     ]
    }
   ],
   "source": [
    "female_age = df.groupby([ 'gender', 'age_group']).count().age['F']\n",
    "male_age = df.groupby(['gender', 'age_group']).count().age['M']\n",
    "print (female_age)\n",
    "print (male_age)"
   ]
  },
  {
   "cell_type": "markdown",
   "metadata": {},
   "source": [
    "<a id='conclusions'></a>\n",
    "## Conclusions\n",
    "\n",
    "<font size=4> \n",
    "1. In the first question the relation of days between scheduled_day and appointment_day on whether a patient will show up for the appointment is analyzed. It's clear that there's a positive correlation between the number of days and the proportion of patients who missed the appointment. \n",
    "<br><br>\n",
    "Limitation: This conclusion/correlation can be affected by the neighbourhood (some neighbourhood might be further way than the others) or if the patients is handicapped or if the patients has receiver sms or not.\n",
    "<br><br>\n",
    "2. In the second question, the relation of age and gender on no_show is analyzed. First, it's found that the number of female who missed the appointment is much higher than male. However, as the number of female patients is much greater, this is not surprising. Comparision of the proportion of female and male who missed the appointment shows that those values are very close. This suggests that there's no correlation between gender and missing appointments. Second, It's fount that younger patients tend to miss the appointments than the older patients. The age group of 18-37 has the highest missing rates and the age group 55-115 has the lowest. Last, the gender in different age groups is analyzed. It's found that in the age group 0-18 the male and female has almost the same missing proportion, while in the other age groups the female has much higher missing rates than male. This is due to that the cardinal number of male and female in age group 0-18 is very close while in the other age groups the female patients cardinal number is much higher. \n",
    "<br><br>\n",
    "Limitation: This conclusion however might be incorrect, as mentioned before a patient can make multiple appointments and does not show up. And these patients are counted multiple times when counting the number of female and male patients. As no efforts has been tried to seperate these patients, the conclusion might be inaccurate.</font>"
   ]
  }
 ],
 "metadata": {
  "kernelspec": {
   "display_name": "Python [default]",
   "language": "python",
   "name": "python3"
  },
  "language_info": {
   "codemirror_mode": {
    "name": "ipython",
    "version": 3
   },
   "file_extension": ".py",
   "mimetype": "text/x-python",
   "name": "python",
   "nbconvert_exporter": "python",
   "pygments_lexer": "ipython3",
   "version": "3.6.6"
  }
 },
 "nbformat": 4,
 "nbformat_minor": 2
}
